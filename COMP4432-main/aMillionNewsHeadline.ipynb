{
 "cells": [
  {
   "cell_type": "code",
   "execution_count": 2,
   "metadata": {},
   "outputs": [],
   "source": [
    "import numpy as np\n",
    "import pandas as pd\n",
    "import matplotlib.pyplot as plt\n",
    "%matplotlib inline\n",
    "from sklearn.feature_extraction.text import CountVectorizer\n",
    "from textblob import TextBlob\n"
   ]
  },
  {
   "cell_type": "code",
   "execution_count": 3,
   "metadata": {},
   "outputs": [
    {
     "name": "stdout",
     "output_type": "stream",
     "text": [
      "0    20030219\n",
      "1    20030219\n",
      "2    20030219\n",
      "3    20030219\n",
      "4    20030219\n",
      "Name: publish_date, dtype: int64\n",
      "0    aba decides against community broadcasting lic...\n",
      "1       act fire witnesses must be aware of defamation\n",
      "2       a g calls for infrastructure protection summit\n",
      "3             air nz staff in aust strike for pay rise\n",
      "4        air nz strike to affect australian travellers\n",
      "Name: headline_text, dtype: object\n"
     ]
    }
   ],
   "source": [
    "dataset_MH = pd.read_csv(\"abcnews-date-text.csv\")\n",
    "#dataset_MH.head(10)\n",
    "\n",
    "dataset_date = dataset_MH[\"publish_date\"]\n",
    "dataset_headline = dataset_MH[\"headline_text\"]\n",
    "\n",
    "print(dataset_date.head())\n",
    "print(dataset_headline.head())"
   ]
  },
  {
   "cell_type": "code",
   "execution_count": 4,
   "metadata": {},
   "outputs": [],
   "source": [
    "# Define helper functions \n",
    "def get_top_n_words(n_top_words, count_vectorizer, text_data):\n",
    "    '''\n",
    "    returns a tuple of the top n words in a sample and their \n",
    "    accompanying counts, given a CountVectorizer object and text sample\n",
    "    '''\n",
    "    vectorized_headlines = count_vectorizer.fit_transform(text_data.values)\n",
    "    vectorized_total = np.sum(vectorized_headlines, axis=0)\n",
    "    word_indices = np.flip(np.argsort(vectorized_total)[0,:], 1)\n",
    "    word_values = np.flip(np.sort(vectorized_total)[0,:],1)\n",
    "    \n",
    "    word_vectors = np.zeros((n_top_words, vectorized_headlines.shape[1]))\n",
    "    for i in range(n_top_words):\n",
    "        word_vectors[i,word_indices[0,i]] = 1\n",
    "\n",
    "    words = [word[0].encode('ascii').decode('utf-8') for \n",
    "             word in count_vectorizer.inverse_transform(word_vectors)]\n",
    "\n",
    "    return (words, word_values[0,:n_top_words].tolist()[0])"
   ]
  },
  {
   "cell_type": "code",
   "execution_count": 5,
   "metadata": {},
   "outputs": [
    {
     "data": {
      "image/png": "[encoded data removed]",
      "text/plain": [
       "<Figure size 1152x576 with 1 Axes>"
      ]
     },
     "metadata": {
      "needs_background": "light"
     },
     "output_type": "display_data"
    }
   ],
   "source": [
    "count_vectorizer = CountVectorizer(stop_words='english')\n",
    "words, word_values = get_top_n_words(n_top_words=20,\n",
    "                                     count_vectorizer=count_vectorizer, \n",
    "                                     text_data=dataset_headline)\n",
    "\n",
    "fig, ax = plt.subplots(figsize=(16,8))\n",
    "ax.bar(range(len(words)), word_values)\n",
    "ax.set_xticks(range(len(words)))\n",
    "ax.set_xticklabels(words, rotation='vertical')\n",
    "ax.set_title('Top words in dataset')\n",
    "ax.set_xlabel('Word')\n",
    "ax.set_ylabel('Number of occurences')\n",
    "plt.show()"
   ]
  },
  {
   "cell_type": "code",
   "execution_count": 43,
   "metadata": {},
   "outputs": [],
   "source": [
    "import markovify\n",
    "import random"
   ]
  },
  {
   "cell_type": "code",
   "execution_count": null,
   "metadata": {},
   "outputs": [],
   "source": [
    "dataset_headline[random.sample(range(100),20)]"
   ]
  },
  {
   "cell_type": "code",
   "execution_count": 8,
   "metadata": {},
   "outputs": [
    {
     "data": {
      "text/html": [
       "<div>\n",
       "<style scoped>\n",
       "    .dataframe tbody tr th:only-of-type {\n",
       "        vertical-align: middle;\n",
       "    }\n",
       "\n",
       "    .dataframe tbody tr th {\n",
       "        vertical-align: top;\n",
       "    }\n",
       "\n",
       "    .dataframe thead th {\n",
       "        text-align: right;\n",
       "    }\n",
       "</style>\n",
       "<table border=\"1\" class=\"dataframe\">\n",
       "  <thead>\n",
       "    <tr style=\"text-align: right;\">\n",
       "      <th></th>\n",
       "      <th>idf_weights</th>\n",
       "    </tr>\n",
       "  </thead>\n",
       "  <tbody>\n",
       "    <tr>\n",
       "      <th>police</th>\n",
       "      <td>4.440677</td>\n",
       "    </tr>\n",
       "    <tr>\n",
       "      <th>new</th>\n",
       "      <td>4.624562</td>\n",
       "    </tr>\n",
       "    <tr>\n",
       "      <th>man</th>\n",
       "      <td>4.696557</td>\n",
       "    </tr>\n",
       "    <tr>\n",
       "      <th>says</th>\n",
       "      <td>4.975881</td>\n",
       "    </tr>\n",
       "    <tr>\n",
       "      <th>court</th>\n",
       "      <td>5.221629</td>\n",
       "    </tr>\n",
       "    <tr>\n",
       "      <th>...</th>\n",
       "      <td>...</td>\n",
       "    </tr>\n",
       "    <tr>\n",
       "      <th>karnali</th>\n",
       "      <td>14.326331</td>\n",
       "    </tr>\n",
       "    <tr>\n",
       "      <th>karolyis</th>\n",
       "      <td>14.326331</td>\n",
       "    </tr>\n",
       "    <tr>\n",
       "      <th>karpal</th>\n",
       "      <td>14.326331</td>\n",
       "    </tr>\n",
       "    <tr>\n",
       "      <th>karpasitis</th>\n",
       "      <td>14.326331</td>\n",
       "    </tr>\n",
       "    <tr>\n",
       "      <th>zzz</th>\n",
       "      <td>14.326331</td>\n",
       "    </tr>\n",
       "  </tbody>\n",
       "</table>\n",
       "<p>104399 rows × 1 columns</p>\n",
       "</div>"
      ],
      "text/plain": [
       "            idf_weights\n",
       "police         4.440677\n",
       "new            4.624562\n",
       "man            4.696557\n",
       "says           4.975881\n",
       "court          5.221629\n",
       "...                 ...\n",
       "karnali       14.326331\n",
       "karolyis      14.326331\n",
       "karpal        14.326331\n",
       "karpasitis    14.326331\n",
       "zzz           14.326331\n",
       "\n",
       "[104399 rows x 1 columns]"
      ]
     },
     "execution_count": 8,
     "metadata": {},
     "output_type": "execute_result"
    }
   ],
   "source": [
    "from sklearn.feature_extraction.text import TfidfTransformer\n",
    "\n",
    "vectorized_headlines = count_vectorizer.fit_transform(dataset_headline.values)\n",
    "tfidf_transformer=TfidfTransformer(smooth_idf=True,use_idf=True) \n",
    "tfidf_transformer.fit(vectorized_headlines)\n",
    "\n",
    "# print idf values \n",
    "df_idf = pd.DataFrame(tfidf_transformer.idf_, index=count_vectorizer.get_feature_names(),columns=[\"idf_weights\"]) \n",
    "# sort ascending \n",
    "df_idf.sort_values(by=['idf_weights'])\n",
    "\n"
   ]
  },
  {
   "cell_type": "code",
   "execution_count": 60,
   "metadata": {},
   "outputs": [],
   "source": [
    "from sklearn.feature_extraction.text import TfidfVectorizer\n",
    "# Define helper functions for tfidf\n",
    "def get_top_n_tfidf(n_top_words, count_vectorizer, text_data):\n",
    "    '''\n",
    "    returns a tuple of the top n words of tfidf in a sample and their \n",
    "    accompanying counts, given a CountVectorizer object and text sample\n",
    "    '''\n",
    "    #use tfidf vectorizer\n",
    "    tfidf_vectorizer=TfidfVectorizer(use_idf=True)\n",
    "    \n",
    "    fitted_vectorizer=tfidf_vectorizer.fit(text_data.values)\n",
    "    tfidf_vectorizer_vectors=fitted_vectorizer.transform(dataset_headline.values)\n",
    "\n",
    "    # sorted words_values\n",
    "    tifdf_sum = np.asarray(tfidf_vectorizer_vectors.sum(axis=0)).ravel()\n",
    "    sorted_index = np.argsort(tifdf_sum)[::-1]\n",
    "    tfidf_feature_names = np.array(tfidf_vectorizer.get_feature_names())\n",
    "    words = tfidf_feature_names[sorted_index[:n_top_words]]\n",
    "    word_values = tifdf_sum[sorted_index[:n_top_words]]\n",
    "\n",
    "    return (words, word_values)"
   ]
  },
  {
   "cell_type": "code",
   "execution_count": 61,
   "metadata": {},
   "outputs": [
    {
     "data": {
      "image/png": "[encoded data removed]",
      "text/plain": [
       "<Figure size 1152x576 with 1 Axes>"
      ]
     },
     "metadata": {
      "needs_background": "light"
     },
     "output_type": "display_data"
    }
   ],
   "source": [
    "words_tfidf, word_values_tfidf = get_top_n_tfidf(n_top_words=20,\n",
    "                                     count_vectorizer=count_vectorizer, \n",
    "                                     text_data=dataset_headline)\n",
    "\n",
    "fig, ax = plt.subplots(figsize=(16,8))\n",
    "ax.bar(range(len(words_tfidf)), word_values_tfidf)\n",
    "ax.set_xticks(range(len(words_tfidf)))\n",
    "ax.set_xticklabels(words_tfidf, rotation='vertical')\n",
    "ax.set_title('Top tfidf in dataset')\n",
    "ax.set_xlabel('Word')\n",
    "ax.set_ylabel('Tfidf')\n",
    "plt.show()"
   ]
  },
  {
   "cell_type": "code",
   "execution_count": 73,
   "metadata": {},
   "outputs": [
    {
     "name": "stdout",
     "output_type": "stream",
     "text": [
      "104691\n",
      "['00', '000', '002', '005', '006', '007', '01', '0101', '0103', '0105', '0106', '010615', '0107', '010715', '0108', '010814', '0109', '0110', '0111', '011114', '0112', '011214', '013', '0130', '014', '0156', '0161', '0179', '018', '01pc', '02', '0201', '0202', '020215', '0204', '0205', '0206', '020615', '0207', '020715', '0208', '0209', '0210', '021014', '0211', '0212', '021214', '0214', '0216', '0241']\n"
     ]
    }
   ],
   "source": [
    "from sklearn.feature_extraction.text import TfidfVectorizer \n",
    "# use the Tfidfvectorizer\n",
    "tfidf_vectorizer=TfidfVectorizer(use_idf=True) \n",
    "tfidf_vectorizer_vectors=tfidf_vectorizer.fit_transform(dataset_headline.values)\n",
    "\n",
    "word_features =tfidf_vectorizer.get_feature_names()\n",
    "print(len(word_features))\n",
    "print(word_features[:50])\n",
    "\n"
   ]
  },
  {
   "cell_type": "code",
   "execution_count": 110,
   "metadata": {},
   "outputs": [
    {
     "name": "stderr",
     "output_type": "stream",
     "text": [
      "[nltk_data] Downloading package stopwords to\n",
      "[nltk_data]     C:\\Users\\wongm\\AppData\\Roaming\\nltk_data...\n",
      "[nltk_data]   Package stopwords is already up-to-date!\n"
     ]
    }
   ],
   "source": [
    "import nltk\n",
    "nltk.download('stopwords')\n",
    "\n",
    "from nltk.corpus import stopwords\n",
    "# set stopwords list\n",
    "stops = set(stopwords.words('english'))\n",
    "\n",
    "# union stopwords with punctuation\n",
    "punc = ['.', ',', '\"', \"'\", '?', '!', ':', ';', '(', ')', '[', ']', '{', '}',\"%\"]\n",
    "stop_words = stops.union(punc)\n"
   ]
  },
  {
   "cell_type": "code",
   "execution_count": 111,
   "metadata": {},
   "outputs": [],
   "source": [
    "import nltk\n",
    "from nltk.tokenize import RegexpTokenizer\n",
    "# stem and tokenize\n",
    "stemmer = nltk.stem.PorterStemmer()\n",
    "tokenizer = RegexpTokenizer(r'[a-zA-Z\\']+')\n",
    "\n",
    "\n",
    "def tokenize(text):\n",
    "    return [stemmer.stem(word) for word in tokenizer.tokenize(text.lower())]"
   ]
  },
  {
   "cell_type": "code",
   "execution_count": 112,
   "metadata": {},
   "outputs": [
    {
     "name": "stderr",
     "output_type": "stream",
     "text": [
      "C:\\Users\\wongm\\anaconda3\\lib\\site-packages\\sklearn\\feature_extraction\\text.py:388: UserWarning: Your stop_words may be inconsistent with your preprocessing. Tokenizing the stop words generated tokens ['abov', 'ani', 'becaus', 'befor', 'doe', 'dure', 'ha', 'hi', \"it'\", 'onc', 'onli', 'ourselv', \"she'\", \"should'v\", 'themselv', 'thi', 'veri', 'wa', 'whi', \"you'r\", \"you'v\", 'yourselv'] not in stop_words.\n",
      "  warnings.warn('Your stop_words may be inconsistent with '\n"
     ]
    },
    {
     "name": "stdout",
     "output_type": "stream",
     "text": [
      "77058\n",
      "[\"'a\", \"'a'\", \"'abandoned'\", \"'abbott\", \"'abducted'\", \"'abnormality'\", \"'abolitionists'\", \"'abomindable'\", \"'absolut\", \"'absurd'\", \"'abus\", \"'accelerated'\", \"'accept'\", \"'accident\", \"'accidentally'\", \"'actual\", \"'admit'\", \"'advanced'\", \"'afraid\", \"'afraid'\", \"'aggrav\", \"'aggression'\", \"'aggressive'\", \"'agitated'\", \"'agriculture'\", \"'ahead\", \"'air\", \"'aladdin\", \"'alarm\", \"'alarmed'\", \"'alarming'\", \"'alive'\", \"'all\", \"'allah'\", \"'allegiance'\", \"'almost\", \"'amarda'\", \"'amazing'\", \"'ambiti\", \"'ambul\", \"'an\", \"'angel\", \"'angri\", \"'angry'\", \"'anoth\", \"'anti\", \"'anytim\", \"'apologis\", \"'appalled'\", \"'appalling'\"]\n"
     ]
    }
   ],
   "source": [
    "tfidf_vectorizer=TfidfVectorizer(stop_words = stop_words ,tokenizer = tokenize) \n",
    "tfidf_vectorizer_vectors=tfidf_vectorizer.fit_transform(dataset_headline.values)\n",
    "\n",
    "word_features =tfidf_vectorizer.get_feature_names()\n",
    "#print the number of word_feature after setting up stopwords, stemming and tokenizing\n",
    "print(len(word_features))\n",
    "print(word_features[:50])"
   ]
  }
 ],
 "metadata": {
  "interpreter": {
   "hash": "82043e9c6bb60dc85d822aa1bc58ee389a3953da33585b1a533ca4c796d4eb5e"
  },
  "kernelspec": {
   "display_name": "Python 3.9.7 64-bit",
   "language": "python",
   "name": "python3"
  },
  "language_info": {
   "codemirror_mode": {
    "name": "ipython",
    "version": 3
   },
   "file_extension": ".py",
   "mimetype": "text/x-python",
   "name": "python",
   "nbconvert_exporter": "python",
   "pygments_lexer": "ipython3",
   "version": "3.8.8"
  },
  "orig_nbformat": 4
 },
 "nbformat": 4,
 "nbformat_minor": 2
}
